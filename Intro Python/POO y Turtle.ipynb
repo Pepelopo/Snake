{
 "cells": [
  {
   "cell_type": "markdown",
   "metadata": {},
   "source": [
    "# POO : Programación Orientada a Objetos"
   ]
  },
  {
   "cell_type": "markdown",
   "metadata": {},
   "source": [
    "<img src=\"img/carro.jpg\" width=600>"
   ]
  },
  {
   "cell_type": "code",
   "execution_count": 1,
   "metadata": {},
   "outputs": [],
   "source": [
    "class Carro:\n",
    "    def __init__(self, marca,modelo,cilindros_motor, num_puertas=4):\n",
    "        self.marca=marca\n",
    "        self.modelo=modelo\n",
    "        if type(cilindros_motor)==int:\n",
    "            self.motor=str(cilindros_motor)+\" cilindros\"\n",
    "        else:\n",
    "            self.motor=\"Eléctrico\"\n",
    "        self.puertas=num_puertas\n",
    "        print(\"Se ha construido un carro\")"
   ]
  },
  {
   "cell_type": "code",
   "execution_count": 2,
   "metadata": {},
   "outputs": [
    {
     "name": "stdout",
     "output_type": "stream",
     "text": [
      "Se ha construido un carro\n"
     ]
    }
   ],
   "source": [
    "ibiza_edgar=Carro(\"Seat\",2020,3.5)"
   ]
  },
  {
   "cell_type": "code",
   "execution_count": 3,
   "metadata": {},
   "outputs": [
    {
     "data": {
      "text/plain": [
       "'Eléctrico'"
      ]
     },
     "execution_count": 3,
     "metadata": {},
     "output_type": "execute_result"
    }
   ],
   "source": [
    "ibiza_edgar.motor"
   ]
  },
  {
   "cell_type": "code",
   "execution_count": 4,
   "metadata": {},
   "outputs": [
    {
     "name": "stdout",
     "output_type": "stream",
     "text": [
      "Se ha construido un carro\n"
     ]
    },
    {
     "data": {
      "text/plain": [
       "{'marca': 'Patito', 'modelo': 2020, 'motor': 'Eléctrico', 'puertas': 2}"
      ]
     },
     "execution_count": 4,
     "metadata": {},
     "output_type": "execute_result"
    }
   ],
   "source": [
    "mi_carro=Carro(\"Patito\",2020, cilindros_motor=False, num_puertas=2)\n",
    "vars(mi_carro)"
   ]
  },
  {
   "cell_type": "markdown",
   "metadata": {},
   "source": [
    "# Librerias"
   ]
  },
  {
   "cell_type": "markdown",
   "metadata": {},
   "source": [
    "<img src=\"img/libreria.png\">"
   ]
  },
  {
   "cell_type": "code",
   "execution_count": 5,
   "metadata": {},
   "outputs": [
    {
     "name": "stdout",
     "output_type": "stream",
     "text": [
      "The Zen of Python, by Tim Peters\n",
      "\n",
      "Beautiful is better than ugly.\n",
      "Explicit is better than implicit.\n",
      "Simple is better than complex.\n",
      "Complex is better than complicated.\n",
      "Flat is better than nested.\n",
      "Sparse is better than dense.\n",
      "Readability counts.\n",
      "Special cases aren't special enough to break the rules.\n",
      "Although practicality beats purity.\n",
      "Errors should never pass silently.\n",
      "Unless explicitly silenced.\n",
      "In the face of ambiguity, refuse the temptation to guess.\n",
      "There should be one-- and preferably only one --obvious way to do it.\n",
      "Although that way may not be obvious at first unless you're Dutch.\n",
      "Now is better than never.\n",
      "Although never is often better than *right* now.\n",
      "If the implementation is hard to explain, it's a bad idea.\n",
      "If the implementation is easy to explain, it may be a good idea.\n",
      "Namespaces are one honking great idea -- let's do more of those!\n"
     ]
    }
   ],
   "source": [
    "import this"
   ]
  },
  {
   "cell_type": "code",
   "execution_count": 7,
   "metadata": {},
   "outputs": [],
   "source": [
    "#! pip install gTTS"
   ]
  },
  {
   "cell_type": "code",
   "execution_count": 8,
   "metadata": {},
   "outputs": [],
   "source": [
    "from gtts import gTTS\n",
    "import os"
   ]
  },
  {
   "cell_type": "code",
   "execution_count": 12,
   "metadata": {},
   "outputs": [],
   "source": [
    "texto=\"Hola Mundo\"\n",
    "voz=gTTS(texto)\n",
    "voz.save(\"prueba.mp3\")"
   ]
  },
  {
   "cell_type": "code",
   "execution_count": 11,
   "metadata": {},
   "outputs": [],
   "source": [
    "os.startfile(\"prueba.mp3\")"
   ]
  },
  {
   "cell_type": "code",
   "execution_count": 19,
   "metadata": {},
   "outputs": [
    {
     "data": {
      "text/plain": [
       "'Spanish (United States)'"
      ]
     },
     "execution_count": 19,
     "metadata": {},
     "output_type": "execute_result"
    }
   ],
   "source": [
    "from gtts import lang\n",
    "lang.tts_langs()[\"es-us\"]"
   ]
  },
  {
   "cell_type": "code",
   "execution_count": 22,
   "metadata": {},
   "outputs": [],
   "source": [
    "texto2=\"Gracias a todos por asistir\"\n",
    "voz=gTTS(texto, lang=\"es-us\",)\n",
    "voz.save(\"prueba2.mp3\")"
   ]
  },
  {
   "cell_type": "code",
   "execution_count": 23,
   "metadata": {},
   "outputs": [],
   "source": [
    "os.startfile(\"prueba2.mp3\")"
   ]
  },
  {
   "cell_type": "markdown",
   "metadata": {},
   "source": [
    "<img src=\"img/turtle.jpg\">"
   ]
  },
  {
   "cell_type": "code",
   "execution_count": 25,
   "metadata": {},
   "outputs": [],
   "source": [
    "import turtle"
   ]
  },
  {
   "cell_type": "code",
   "execution_count": 26,
   "metadata": {},
   "outputs": [],
   "source": [
    "t=turtle.Pen()"
   ]
  },
  {
   "cell_type": "code",
   "execution_count": 27,
   "metadata": {},
   "outputs": [],
   "source": [
    "t.forward(100)"
   ]
  },
  {
   "cell_type": "code",
   "execution_count": 28,
   "metadata": {},
   "outputs": [],
   "source": [
    "t.shape(\"turtle\")"
   ]
  },
  {
   "cell_type": "code",
   "execution_count": 29,
   "metadata": {},
   "outputs": [],
   "source": [
    "t.color(\"green\")"
   ]
  },
  {
   "cell_type": "markdown",
   "metadata": {},
   "source": [
    "<table>\n",
    "  <tr>\n",
    "    <th>Método</th>\n",
    "    <th>Parámetro(s)</th>\n",
    "    <th>Descripción</th>\n",
    "  </tr>\n",
    "  <tr>\n",
    "    <td>Turtle</td>\n",
    "    <td>---</td>\n",
    "    <td>Instancia y genera un nuevo objeto turtle</td>\n",
    "  </tr>\n",
    "  <tr>\n",
    "    <td>forward</td>\n",
    "    <td>Longitud</td>\n",
    "    <td>Mueve la tortuga hacia adelante la longitud especificada</td>\n",
    "  </tr>\n",
    "  <tr>\n",
    "    <td>backward</td>\n",
    "    <td>Longitud</td>\n",
    "    <td>Mueve la tortuga hacia atras la longitud especificada</td>\n",
    "  </tr>\n",
    "  <tr>\n",
    "    <td>right</td>\n",
    "    <td>Ángulo</td>\n",
    "    <td>Gira la tortuga conforme a las manecillas del reloj</td>\n",
    "  </tr>\n",
    "  <tr>\n",
    "    <td>left</td>\n",
    "    <td>Ángulo</td>\n",
    "    <td>Gira la tortuga contrario a las manecillas del reloj</td>\n",
    "  </tr>\n",
    "  <tr>\n",
    "    <td>up</td>\n",
    "    <td>---</td>\n",
    "    <td>Levanta a la tortuga del canvas</td>\n",
    "  </tr>\n",
    "  <tr>\n",
    "    <td>down</td>\n",
    "    <td>---</td>\n",
    "    <td>Coloca a la tortuga en el canvas</td>\n",
    "  </tr>\n",
    "  <tr>\n",
    "    <td>color</td>\n",
    "    <td>Nombre de color</td>\n",
    "    <td>Cambia el color a la tortuga</td>\n",
    "  </tr>\n",
    "  <tr>\n",
    "    <td>fillcolor</td>\n",
    "    <td>Nombre de color</td>\n",
    "    <td>Cambia el color del que va a rellenar un poligono creado</td>\n",
    "  </tr>\n",
    "  <tr>\n",
    "    <td>begin_fill</td>\n",
    "    <td>---</td>\n",
    "    <td>Recuerda el punto de inicio para rellenar el poligono</td>\n",
    "  </tr>\n",
    "  <tr>\n",
    "    <td>end_fill</td>\n",
    "    <td>---</td>\n",
    "    <td>Cierra el poligono y lo rellena del color actual</td>\n",
    "  </tr>\n",
    "  <tr>\n",
    "    <td>goto</td>\n",
    "    <td>x, y</td>\n",
    "    <td>Mueve a la tortuga a una posición x,y</td>\n",
    "  </tr>\n",
    "  <tr>\n",
    "    <td>dot</td>\n",
    "    <td>---</td>\n",
    "    <td>Deja un punto en la posición actual</td>\n",
    "  </tr>\n",
    "  <tr>\n",
    "    <td>stamp</td>\n",
    "    <td>---</td>\n",
    "    <td>Deja una marca de la tortuga en la posición actual</td>\n",
    "  </tr>\n",
    "  <tr>\n",
    "    <td>shape</td>\n",
    "    <td>(\"arrow\", \"classic\", \"turtle\", \"circle\")</td>\n",
    "    <td>Cambia la forma de la tortuga</td>\n",
    "  </tr>\n",
    "</table>"
   ]
  },
  {
   "cell_type": "markdown",
   "metadata": {},
   "source": [
    "Para un listado completo de todos los métodos en turtle, referirse al siguiente sitio web: https://docs.python.org/3/library/turtle.html"
   ]
  },
  {
   "cell_type": "code",
   "execution_count": 31,
   "metadata": {},
   "outputs": [],
   "source": [
    "import turtle\n",
    "colors = [ \"red\",\"purple\",\"blue\",\"green\",\"orange\",\"yellow\"]\n",
    "\n",
    "t = turtle.Pen()\n",
    "t.speed(0)\n",
    "turtle.bgcolor(\"black\") #Modifica el color del canvas\n",
    "\n",
    "for x in range(360):\n",
    "    t.pencolor(colors[x % 6])\n",
    "    t.width(x/100 + 1)\n",
    "    t.forward(x)\n",
    "    t.left(59)\n",
    "    \n",
    "turtle.bye()"
   ]
  },
  {
   "cell_type": "code",
   "execution_count": null,
   "metadata": {},
   "outputs": [],
   "source": []
  }
 ],
 "metadata": {
  "kernelspec": {
   "display_name": "Python 3",
   "language": "python",
   "name": "python3"
  },
  "language_info": {
   "codemirror_mode": {
    "name": "ipython",
    "version": 3
   },
   "file_extension": ".py",
   "mimetype": "text/x-python",
   "name": "python",
   "nbconvert_exporter": "python",
   "pygments_lexer": "ipython3",
   "version": "3.7.6"
  }
 },
 "nbformat": 4,
 "nbformat_minor": 4
}
