{
 "cells": [
  {
   "cell_type": "markdown",
   "metadata": {},
   "source": [
    "# Snake, the game!!!"
   ]
  },
  {
   "cell_type": "markdown",
   "metadata": {},
   "source": [
    "<img src=\"step 2.png\">"
   ]
  },
  {
   "cell_type": "code",
   "execution_count": 1,
   "metadata": {},
   "outputs": [],
   "source": [
    "# Importamos las librerías que se ocuparán para este ejercicio\n",
    "import turtle\n",
    "import random\n",
    "import time\n",
    "retraso=0.1\n",
    "nombre=\"Edgar\"\n",
    "segments = []\n",
    "# score\n",
    "score = 0\n",
    "high_score = 0\n",
    "comida=False"
   ]
  },
  {
   "cell_type": "markdown",
   "metadata": {},
   "source": [
    "### Ventana del juego"
   ]
  },
  {
   "cell_type": "code",
   "execution_count": 2,
   "metadata": {},
   "outputs": [],
   "source": [
    "#Atributos de la ventana de juego\n",
    "win = turtle.Screen()\n",
    "win.title(nombre+\"'s snake game\")\n",
    "win.bgcolor(\"black\")\n",
    "win.setup(width=600,height=600)\n",
    "win.tracer(0)"
   ]
  },
  {
   "cell_type": "markdown",
   "metadata": {},
   "source": [
    "### Cabeza de la vibora"
   ]
  },
  {
   "cell_type": "code",
   "execution_count": 3,
   "metadata": {},
   "outputs": [],
   "source": [
    "head = turtle.Turtle()\n",
    "head.speed(0)\n",
    "head.shape(\"arrow\")\n",
    "head.color(\"grey\")\n",
    "head.penup()\n",
    "head.goto(0, 100)\n",
    "# Creamos el atributo direction\n",
    "head.direction = \"stop\""
   ]
  },
  {
   "cell_type": "markdown",
   "metadata": {},
   "source": [
    "### Funciones para mover a la víbora"
   ]
  },
  {
   "cell_type": "code",
   "execution_count": 4,
   "metadata": {},
   "outputs": [],
   "source": [
    "def move():\n",
    "    '''\n",
    "    La función move manejará 5 estados:\n",
    "    1. stop: No hay movimiento\n",
    "    2. up: Se desplazará hacia arriba 20 unidades\n",
    "    3. down: Se desplazará hacia abajo 20 unidades\n",
    "    4. right: Se desplazará hacia la derecha 20 unidades\n",
    "    5. left: Se desplazará hacia la izquierda 20 unidades\n",
    "    '''\n",
    "    if head.direction == \"up\":\n",
    "        y = head.ycor() #Coordenada en y de la cabeza de la serpiente\n",
    "        head.sety(y + 20)\n",
    " \n",
    "    if head.direction == \"down\":\n",
    "        y = head.ycor() #Coordenada en y de la cabeza de la serpiente\n",
    "        head.sety(y - 20)\n",
    " \n",
    "    if head.direction == \"right\":\n",
    "        x = head.xcor() #Coordenada en x de la cabeza de la serpiente\n",
    "        head.setx(x + 20)\n",
    " \n",
    "    if head.direction == \"left\":\n",
    "        x = head.xcor() #Coordenada en x de la cabeza de la serpiente\n",
    "        head.setx(x - 20)"
   ]
  },
  {
   "cell_type": "markdown",
   "metadata": {},
   "source": [
    "### Setters para el movimiento de la vibora"
   ]
  },
  {
   "cell_type": "code",
   "execution_count": 5,
   "metadata": {},
   "outputs": [],
   "source": [
    "# Funciones para modificar el estado de direction\n",
    "# Estas funciones consideran evitar que los movimientos\n",
    "# opuestos se puedan usar; i.e. si va hacia arriba,\n",
    "# no puede ir hacia abajo.\n",
    "\n",
    "def go_up():\n",
    "    if head.direction != \"down\":\n",
    "        head.direction = \"up\"\n",
    "        head.setheading(90)\n",
    "\n",
    "def go_down():\n",
    "    if head.direction != \"up\":\n",
    "        head.direction = \"down\"\n",
    "        head.setheading(270)\n",
    "\n",
    "def go_right():\n",
    "    if head.direction != \"left\":\n",
    "        head.direction = \"right\"\n",
    "        head.setheading(0)\n",
    "\n",
    "def go_left():\n",
    "    if head.direction != \"right\":\n",
    "        head.direction = \"left\"\n",
    "        head.setheading(180)"
   ]
  },
  {
   "cell_type": "markdown",
   "metadata": {},
   "source": [
    "### Métodos para asignar el movimiento de la vibora al teclado"
   ]
  },
  {
   "cell_type": "code",
   "execution_count": 6,
   "metadata": {},
   "outputs": [],
   "source": [
    "# keyboard bindings\n",
    "win.listen()\n",
    "win.onkey(go_up, \"Up\")\n",
    "win.onkey(go_down, \"Down\")\n",
    "win.onkey(go_right, \"Right\")\n",
    "win.onkey(go_left, \"Left\")"
   ]
  },
  {
   "cell_type": "markdown",
   "metadata": {},
   "source": [
    "### Agregando la primer manzana al juego"
   ]
  },
  {
   "cell_type": "code",
   "execution_count": 7,
   "metadata": {},
   "outputs": [],
   "source": [
    "# Snake food\n",
    "food = turtle.Turtle()\n",
    "food.speed(0)\n",
    "food.shape(\"circle\")\n",
    "food.color(\"red\")\n",
    "food.penup()\n",
    "food.shapesize(0.50, 0.50)\n",
    "food.goto(0, 0)"
   ]
  },
  {
   "cell_type": "markdown",
   "metadata": {},
   "source": [
    "### Marcador"
   ]
  },
  {
   "cell_type": "code",
   "execution_count": 8,
   "metadata": {},
   "outputs": [],
   "source": [
    "pen = turtle.Turtle()\n",
    "pen.speed(0)\n",
    "pen.shape(\"square\")\n",
    "pen.color(\"white\")\n",
    "pen.penup()\n",
    "pen.hideturtle()\n",
    "pen.goto(0, 260)\n",
    "pen.write(\"Score: {} High Score: {}\".format(score,high_score), align=\"center\", font=(\"Courier\", 24, \"normal\"))"
   ]
  },
  {
   "cell_type": "code",
   "execution_count": 9,
   "metadata": {},
   "outputs": [],
   "source": [
    "def score_add():\n",
    "    global score\n",
    "    global high_score\n",
    "    score = score+10\n",
    "    if score > high_score:\n",
    "        high_score = score\n",
    "    pen.clear()\n",
    "    pen.write(\"Score: {} High Score: {}\".format(score,high_score), align=\"center\", font=(\"Courier\", 24, \"normal\"))"
   ]
  },
  {
   "cell_type": "code",
   "execution_count": 10,
   "metadata": {},
   "outputs": [],
   "source": [
    "def score_end():\n",
    "    global score\n",
    "    global high_score\n",
    "    # reset score\n",
    "    score = 0\n",
    "    # update score\n",
    "    pen.clear()\n",
    "    pen.write(\"score: {} High Score: {}\".format(score, high_score), align=\"center\", font=(\"Courier\", 24, \"normal\"))\n"
   ]
  },
  {
   "cell_type": "markdown",
   "metadata": {},
   "source": [
    "### Función para hacer crecer a la víbora"
   ]
  },
  {
   "cell_type": "code",
   "execution_count": 11,
   "metadata": {},
   "outputs": [],
   "source": [
    "def body_collision():\n",
    "    pass"
   ]
  },
  {
   "cell_type": "code",
   "execution_count": 12,
   "metadata": {},
   "outputs": [],
   "source": [
    "# add a segment\n",
    "def body():\n",
    "    new_segment = turtle.Turtle()\n",
    "    new_segment.speed(0)\n",
    "    new_segment.shape(\"square\")\n",
    "    new_segment.color(\"grey\")\n",
    "    new_segment.penup()\n",
    "    segments.append(new_segment)\n",
    "    \n",
    "def move_body():\n",
    "    if segments!=[]:\n",
    "        for index in range(len(segments)-1, 0, -1):\n",
    "            x = segments[index-1].xcor()\n",
    "            y = segments[index-1].ycor()\n",
    "            segments[index].goto(x, y)\n",
    "        body_collision()\n",
    "        x = head.xcor()\n",
    "        y = head.ycor()\n",
    "        segments[0].goto(x, y)\n",
    "        segments[0].shape(\"arrow\")"
   ]
  },
  {
   "cell_type": "markdown",
   "metadata": {},
   "source": [
    "### Función para mover la comida a un punto aleatorio en la ventana"
   ]
  },
  {
   "cell_type": "code",
   "execution_count": 13,
   "metadata": {},
   "outputs": [],
   "source": [
    "def new_food():\n",
    "    global retraso\n",
    "    global comida\n",
    "    if head.distance(food) <15:\n",
    "        # Movemos la comida a una posición aleatoria en la pantalla\n",
    "        x = random.randint(-290, 290)\n",
    "        y = random.randint(-290, 290)\n",
    "        food.goto(x, y)\n",
    "        score_add()\n",
    "        body()\n",
    "        retraso=retraso*0.95\n",
    "        comida=True"
   ]
  },
  {
   "cell_type": "markdown",
   "metadata": {},
   "source": [
    "### Agregando colisiones al borde de la ventana"
   ]
  },
  {
   "cell_type": "code",
   "execution_count": 14,
   "metadata": {},
   "outputs": [],
   "source": [
    "# Check for collision\n",
    "def border_collision():\n",
    "    global retraso\n",
    "    if head.xcor() > 290 or head.xcor() < -290 or head.ycor() > 290 or head.ycor() < -290:\n",
    "        # Pausa el juego por 1 segundo, indicando el final del mismo\n",
    "        time.sleep(1)\n",
    "        head.goto(0, 0)\n",
    "        head.direction = \"stop\"\n",
    "        # Quitamos el cuerpo de la víbora de la pantalla\n",
    "        for segment in segments:\n",
    "            segment.goto(1000, 1000)\n",
    "        # Eliminamos el cuerpo de la víbora\n",
    "        segments.clear()\n",
    "        # Se registra el score\n",
    "        score_end()\n",
    "        # Se reinicia la velocidad del juego\n",
    "        retraso=0.1"
   ]
  },
  {
   "cell_type": "markdown",
   "metadata": {},
   "source": [
    "### Colisión con el cuerpo"
   ]
  },
  {
   "cell_type": "code",
   "execution_count": 15,
   "metadata": {},
   "outputs": [],
   "source": [
    "def body_collision():\n",
    "    '''\n",
    "    Función que determina si la cabeza entra en contacto con\n",
    "    el cuerpo de la serpiente. Esta función se desactiva por\n",
    "    1 segundo, cada que la serpiente come una manzana, para \n",
    "    evitar conflicto con las otras funciones.\n",
    "    '''\n",
    "    global retraso\n",
    "    global comida\n",
    "    if comida==False:\n",
    "        # Check for head collision\n",
    "        for segment in segments:\n",
    "            if segment.distance(head) == 0:\n",
    "                time.sleep(1)\n",
    "                head.goto(0, 0)\n",
    "                head.direction = \"stop\"\n",
    "                # Hide the segments\n",
    "                for segment in segments:\n",
    "                    segment.goto(1000, 1000)\n",
    "                # clear segment list\n",
    "                segments.clear()\n",
    "                score_end()\n",
    "                retraso=0.1"
   ]
  },
  {
   "cell_type": "markdown",
   "metadata": {},
   "source": [
    "### Loop para mantener el juego activo"
   ]
  },
  {
   "cell_type": "code",
   "execution_count": null,
   "metadata": {},
   "outputs": [],
   "source": [
    "# Loop que permite tener la ventana activa del juego\n",
    "while True:\n",
    "    win.update()\n",
    "    move()\n",
    "    new_food()\n",
    "    move_body()\n",
    "    time.sleep(retraso)\n",
    "    border_collision()\n",
    "    comida=False"
   ]
  }
 ],
 "metadata": {
  "kernelspec": {
   "display_name": "Python 3",
   "language": "python",
   "name": "python3"
  },
  "language_info": {
   "codemirror_mode": {
    "name": "ipython",
    "version": 3
   },
   "file_extension": ".py",
   "mimetype": "text/x-python",
   "name": "python",
   "nbconvert_exporter": "python",
   "pygments_lexer": "ipython3",
   "version": "3.7.6"
  }
 },
 "nbformat": 4,
 "nbformat_minor": 4
}
